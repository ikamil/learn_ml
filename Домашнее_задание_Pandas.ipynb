{
 "nbformat": 4,
 "nbformat_minor": 0,
 "metadata": {
  "colab": {
   "provenance": []
  },
  "kernelspec": {
   "name": "python3",
   "display_name": "Python 3"
  },
  "language_info": {
   "name": "python"
  }
 },
 "cells": [
  {
   "cell_type": "markdown",
   "source": [
    "# Работа с библиотекой Pandas"
   ],
   "metadata": {
    "id": "GiYQGjAL0zsp",
    "pycharm": {
     "name": "#%% md\n"
    }
   }
  },
  {
   "cell_type": "markdown",
   "source": [
    "1. Загрузите набор данных из файла **car_data.csv** по примеру с лекции\n",
    "\n"
   ],
   "metadata": {
    "id": "7NRDKGYTNs2c",
    "pycharm": {
     "name": "#%% md\n"
    }
   }
  },
  {
   "cell_type": "code",
   "source": [
    "# Добавить свой код в ячейку\n",
    "import pandas as pd\n",
    "df = pd.read_csv(\"car_data.csv\")\n",
    "df"
   ],
   "metadata": {
    "id": "MtdlsUmS01oi",
    "pycharm": {
     "name": "#%%\n"
    }
   },
   "execution_count": 1,
   "outputs": [
    {
     "data": {
      "text/plain": "      Unnamed: 0        Car_id       Date Customer Name  Gender  \\\n0              0  C_CND_000001   1/2/2022     Geraldine    Male   \n1              1  C_CND_000002   1/2/2022           Gia    Male   \n2              2  C_CND_000003   1/2/2022        Gianna    Male   \n3              3  C_CND_000004   1/2/2022       Giselle    Male   \n4              4  C_CND_000005   1/2/2022         Grace    Male   \n...          ...           ...        ...           ...     ...   \n4996        4996  C_CND_004997  8/28/2022         Elena  Female   \n4997        4997  C_CND_004998  8/28/2022         Elina    Male   \n4998        4998  C_CND_004999  8/28/2022     Elizabeth    Male   \n4999        4999  C_CND_005000  8/28/2022          Ella    Male   \n5000        5000  C_CND_005001  8/28/2022         Emily    Male   \n\n      Annual Income                          Dealer_Name     Company  \\\n0             13500  Buddy Storbeck's Diesel Service Inc        Ford   \n1           1480000                     C & M Motors Inc       Dodge   \n2           1035000                          Capitol KIA    Cadillac   \n3             13500               Chrysler of Tri-Cities      Toyota   \n4           1465000                    Chrysler Plymouth       Acura   \n...             ...                                  ...         ...   \n4996        3900000                     Saab-Belle Dodge        Jeep   \n4997        1500000    Scrivener Performance Engineering      Saturn   \n4998        1850000                 Star Enterprises Inc     Pontiac   \n4999          13500                        Suburban Ford     Mercury   \n5000        1700000                   Tri-State Mack Inc  Mitsubishi   \n\n           Model                     Engine Transmission       Color  \\\n0     Expedition  DoubleÂ Overhead Camshaft         Auto       Black   \n1        Durango  DoubleÂ Overhead Camshaft         Auto       Black   \n2       Eldorado          Overhead Camshaft       Manual         Red   \n3         Celica          Overhead Camshaft       Manual  Pale White   \n4             TL  DoubleÂ Overhead Camshaft         Auto         Red   \n...          ...                        ...          ...         ...   \n4996    Wrangler          Overhead Camshaft       Manual  Pale White   \n4997          LS  DoubleÂ Overhead Camshaft         Auto         Red   \n4998    Grand Am  DoubleÂ Overhead Camshaft         Auto  Pale White   \n4999    Villager  DoubleÂ Overhead Camshaft         Auto       Black   \n5000      3000GT          Overhead Camshaft       Manual         Red   \n\n      Price ($)  Dealer_No  Body Style    Phone Dealer_Region  \n0         26000  06457-3834        SUV  8264678    Middletown  \n1         19000  60504-7114        SUV  6848189        Aurora  \n2         31500  38701-8047  Passenger  7298798    Greenville  \n3         14000  99301-3882        SUV  6257557         Pasco  \n4         24500  53546-9427  Hatchback  7081483    Janesville  \n...         ...         ...        ...      ...           ...  \n4996      23000  60504-7114  Hatchback  7664667        Aurora  \n4997      24000  38701-8047      Sedan  7050688    Greenville  \n4998      12000  99301-3882        SUV  6236154         Pasco  \n4999      16000  53546-9427  Passenger  7500618    Janesville  \n5000      24000  85257-3102      Sedan  7052234    Scottsdale  \n\n[5001 rows x 17 columns]",
      "text/html": "<div>\n<style scoped>\n    .dataframe tbody tr th:only-of-type {\n        vertical-align: middle;\n    }\n\n    .dataframe tbody tr th {\n        vertical-align: top;\n    }\n\n    .dataframe thead th {\n        text-align: right;\n    }\n</style>\n<table border=\"1\" class=\"dataframe\">\n  <thead>\n    <tr style=\"text-align: right;\">\n      <th></th>\n      <th>Unnamed: 0</th>\n      <th>Car_id</th>\n      <th>Date</th>\n      <th>Customer Name</th>\n      <th>Gender</th>\n      <th>Annual Income</th>\n      <th>Dealer_Name</th>\n      <th>Company</th>\n      <th>Model</th>\n      <th>Engine</th>\n      <th>Transmission</th>\n      <th>Color</th>\n      <th>Price ($)</th>\n      <th>Dealer_No</th>\n      <th>Body Style</th>\n      <th>Phone</th>\n      <th>Dealer_Region</th>\n    </tr>\n  </thead>\n  <tbody>\n    <tr>\n      <th>0</th>\n      <td>0</td>\n      <td>C_CND_000001</td>\n      <td>1/2/2022</td>\n      <td>Geraldine</td>\n      <td>Male</td>\n      <td>13500</td>\n      <td>Buddy Storbeck's Diesel Service Inc</td>\n      <td>Ford</td>\n      <td>Expedition</td>\n      <td>DoubleÂ Overhead Camshaft</td>\n      <td>Auto</td>\n      <td>Black</td>\n      <td>26000</td>\n      <td>06457-3834</td>\n      <td>SUV</td>\n      <td>8264678</td>\n      <td>Middletown</td>\n    </tr>\n    <tr>\n      <th>1</th>\n      <td>1</td>\n      <td>C_CND_000002</td>\n      <td>1/2/2022</td>\n      <td>Gia</td>\n      <td>Male</td>\n      <td>1480000</td>\n      <td>C &amp; M Motors Inc</td>\n      <td>Dodge</td>\n      <td>Durango</td>\n      <td>DoubleÂ Overhead Camshaft</td>\n      <td>Auto</td>\n      <td>Black</td>\n      <td>19000</td>\n      <td>60504-7114</td>\n      <td>SUV</td>\n      <td>6848189</td>\n      <td>Aurora</td>\n    </tr>\n    <tr>\n      <th>2</th>\n      <td>2</td>\n      <td>C_CND_000003</td>\n      <td>1/2/2022</td>\n      <td>Gianna</td>\n      <td>Male</td>\n      <td>1035000</td>\n      <td>Capitol KIA</td>\n      <td>Cadillac</td>\n      <td>Eldorado</td>\n      <td>Overhead Camshaft</td>\n      <td>Manual</td>\n      <td>Red</td>\n      <td>31500</td>\n      <td>38701-8047</td>\n      <td>Passenger</td>\n      <td>7298798</td>\n      <td>Greenville</td>\n    </tr>\n    <tr>\n      <th>3</th>\n      <td>3</td>\n      <td>C_CND_000004</td>\n      <td>1/2/2022</td>\n      <td>Giselle</td>\n      <td>Male</td>\n      <td>13500</td>\n      <td>Chrysler of Tri-Cities</td>\n      <td>Toyota</td>\n      <td>Celica</td>\n      <td>Overhead Camshaft</td>\n      <td>Manual</td>\n      <td>Pale White</td>\n      <td>14000</td>\n      <td>99301-3882</td>\n      <td>SUV</td>\n      <td>6257557</td>\n      <td>Pasco</td>\n    </tr>\n    <tr>\n      <th>4</th>\n      <td>4</td>\n      <td>C_CND_000005</td>\n      <td>1/2/2022</td>\n      <td>Grace</td>\n      <td>Male</td>\n      <td>1465000</td>\n      <td>Chrysler Plymouth</td>\n      <td>Acura</td>\n      <td>TL</td>\n      <td>DoubleÂ Overhead Camshaft</td>\n      <td>Auto</td>\n      <td>Red</td>\n      <td>24500</td>\n      <td>53546-9427</td>\n      <td>Hatchback</td>\n      <td>7081483</td>\n      <td>Janesville</td>\n    </tr>\n    <tr>\n      <th>...</th>\n      <td>...</td>\n      <td>...</td>\n      <td>...</td>\n      <td>...</td>\n      <td>...</td>\n      <td>...</td>\n      <td>...</td>\n      <td>...</td>\n      <td>...</td>\n      <td>...</td>\n      <td>...</td>\n      <td>...</td>\n      <td>...</td>\n      <td>...</td>\n      <td>...</td>\n      <td>...</td>\n      <td>...</td>\n    </tr>\n    <tr>\n      <th>4996</th>\n      <td>4996</td>\n      <td>C_CND_004997</td>\n      <td>8/28/2022</td>\n      <td>Elena</td>\n      <td>Female</td>\n      <td>3900000</td>\n      <td>Saab-Belle Dodge</td>\n      <td>Jeep</td>\n      <td>Wrangler</td>\n      <td>Overhead Camshaft</td>\n      <td>Manual</td>\n      <td>Pale White</td>\n      <td>23000</td>\n      <td>60504-7114</td>\n      <td>Hatchback</td>\n      <td>7664667</td>\n      <td>Aurora</td>\n    </tr>\n    <tr>\n      <th>4997</th>\n      <td>4997</td>\n      <td>C_CND_004998</td>\n      <td>8/28/2022</td>\n      <td>Elina</td>\n      <td>Male</td>\n      <td>1500000</td>\n      <td>Scrivener Performance Engineering</td>\n      <td>Saturn</td>\n      <td>LS</td>\n      <td>DoubleÂ Overhead Camshaft</td>\n      <td>Auto</td>\n      <td>Red</td>\n      <td>24000</td>\n      <td>38701-8047</td>\n      <td>Sedan</td>\n      <td>7050688</td>\n      <td>Greenville</td>\n    </tr>\n    <tr>\n      <th>4998</th>\n      <td>4998</td>\n      <td>C_CND_004999</td>\n      <td>8/28/2022</td>\n      <td>Elizabeth</td>\n      <td>Male</td>\n      <td>1850000</td>\n      <td>Star Enterprises Inc</td>\n      <td>Pontiac</td>\n      <td>Grand Am</td>\n      <td>DoubleÂ Overhead Camshaft</td>\n      <td>Auto</td>\n      <td>Pale White</td>\n      <td>12000</td>\n      <td>99301-3882</td>\n      <td>SUV</td>\n      <td>6236154</td>\n      <td>Pasco</td>\n    </tr>\n    <tr>\n      <th>4999</th>\n      <td>4999</td>\n      <td>C_CND_005000</td>\n      <td>8/28/2022</td>\n      <td>Ella</td>\n      <td>Male</td>\n      <td>13500</td>\n      <td>Suburban Ford</td>\n      <td>Mercury</td>\n      <td>Villager</td>\n      <td>DoubleÂ Overhead Camshaft</td>\n      <td>Auto</td>\n      <td>Black</td>\n      <td>16000</td>\n      <td>53546-9427</td>\n      <td>Passenger</td>\n      <td>7500618</td>\n      <td>Janesville</td>\n    </tr>\n    <tr>\n      <th>5000</th>\n      <td>5000</td>\n      <td>C_CND_005001</td>\n      <td>8/28/2022</td>\n      <td>Emily</td>\n      <td>Male</td>\n      <td>1700000</td>\n      <td>Tri-State Mack Inc</td>\n      <td>Mitsubishi</td>\n      <td>3000GT</td>\n      <td>Overhead Camshaft</td>\n      <td>Manual</td>\n      <td>Red</td>\n      <td>24000</td>\n      <td>85257-3102</td>\n      <td>Sedan</td>\n      <td>7052234</td>\n      <td>Scottsdale</td>\n    </tr>\n  </tbody>\n</table>\n<p>5001 rows × 17 columns</p>\n</div>"
     },
     "execution_count": 1,
     "metadata": {},
     "output_type": "execute_result"
    }
   ]
  },
  {
   "cell_type": "markdown",
   "source": [
    "2. Проведите анализ пропусков в данных. Удалите строки или столбцы, содержащие пропуски."
   ],
   "metadata": {
    "id": "Sjv3folGN2wg",
    "pycharm": {
     "name": "#%% md\n"
    }
   }
  },
  {
   "cell_type": "code",
   "source": [
    "# Добавить свой код в ячейку\n",
    "df.info()\n",
    "df.isna().sum()\n",
    "df.notnull()\n",
    "df = df.dropna()\n",
    "df"
   ],
   "metadata": {
    "id": "_7kkMay-N28c",
    "pycharm": {
     "name": "#%%\n"
    }
   },
   "execution_count": 8,
   "outputs": [
    {
     "name": "stdout",
     "output_type": "stream",
     "text": [
      "<class 'pandas.core.frame.DataFrame'>\n",
      "RangeIndex: 5001 entries, 0 to 5000\n",
      "Data columns (total 17 columns):\n",
      " #   Column         Non-Null Count  Dtype \n",
      "---  ------         --------------  ----- \n",
      " 0   Unnamed: 0     5001 non-null   int64 \n",
      " 1   Car_id         5001 non-null   object\n",
      " 2   Date           5001 non-null   object\n",
      " 3   Customer Name  5001 non-null   object\n",
      " 4   Gender         5001 non-null   object\n",
      " 5   Annual Income  5001 non-null   int64 \n",
      " 6   Dealer_Name    4929 non-null   object\n",
      " 7   Company        4929 non-null   object\n",
      " 8   Model          5001 non-null   object\n",
      " 9   Engine         5001 non-null   object\n",
      " 10  Transmission   5001 non-null   object\n",
      " 11  Color          5001 non-null   object\n",
      " 12  Price ($)      5001 non-null   int64 \n",
      " 13  Dealer_No      5001 non-null   object\n",
      " 14  Body Style     5001 non-null   object\n",
      " 15  Phone          5001 non-null   int64 \n",
      " 16  Dealer_Region  5001 non-null   object\n",
      "dtypes: int64(4), object(13)\n",
      "memory usage: 664.3+ KB\n"
     ]
    },
    {
     "data": {
      "text/plain": "      Unnamed: 0        Car_id       Date Customer Name  Gender  \\\n0              0  C_CND_000001   1/2/2022     Geraldine    Male   \n1              1  C_CND_000002   1/2/2022           Gia    Male   \n2              2  C_CND_000003   1/2/2022        Gianna    Male   \n3              3  C_CND_000004   1/2/2022       Giselle    Male   \n4              4  C_CND_000005   1/2/2022         Grace    Male   \n...          ...           ...        ...           ...     ...   \n4996        4996  C_CND_004997  8/28/2022         Elena  Female   \n4997        4997  C_CND_004998  8/28/2022         Elina    Male   \n4998        4998  C_CND_004999  8/28/2022     Elizabeth    Male   \n4999        4999  C_CND_005000  8/28/2022          Ella    Male   \n5000        5000  C_CND_005001  8/28/2022         Emily    Male   \n\n      Annual Income                          Dealer_Name     Company  \\\n0             13500  Buddy Storbeck's Diesel Service Inc        Ford   \n1           1480000                     C & M Motors Inc       Dodge   \n2           1035000                          Capitol KIA    Cadillac   \n3             13500               Chrysler of Tri-Cities      Toyota   \n4           1465000                    Chrysler Plymouth       Acura   \n...             ...                                  ...         ...   \n4996        3900000                     Saab-Belle Dodge        Jeep   \n4997        1500000    Scrivener Performance Engineering      Saturn   \n4998        1850000                 Star Enterprises Inc     Pontiac   \n4999          13500                        Suburban Ford     Mercury   \n5000        1700000                   Tri-State Mack Inc  Mitsubishi   \n\n           Model                     Engine Transmission       Color  \\\n0     Expedition  DoubleÂ Overhead Camshaft         Auto       Black   \n1        Durango  DoubleÂ Overhead Camshaft         Auto       Black   \n2       Eldorado          Overhead Camshaft       Manual         Red   \n3         Celica          Overhead Camshaft       Manual  Pale White   \n4             TL  DoubleÂ Overhead Camshaft         Auto         Red   \n...          ...                        ...          ...         ...   \n4996    Wrangler          Overhead Camshaft       Manual  Pale White   \n4997          LS  DoubleÂ Overhead Camshaft         Auto         Red   \n4998    Grand Am  DoubleÂ Overhead Camshaft         Auto  Pale White   \n4999    Villager  DoubleÂ Overhead Camshaft         Auto       Black   \n5000      3000GT          Overhead Camshaft       Manual         Red   \n\n      Price ($)  Dealer_No  Body Style    Phone Dealer_Region  \n0         26000  06457-3834        SUV  8264678    Middletown  \n1         19000  60504-7114        SUV  6848189        Aurora  \n2         31500  38701-8047  Passenger  7298798    Greenville  \n3         14000  99301-3882        SUV  6257557         Pasco  \n4         24500  53546-9427  Hatchback  7081483    Janesville  \n...         ...         ...        ...      ...           ...  \n4996      23000  60504-7114  Hatchback  7664667        Aurora  \n4997      24000  38701-8047      Sedan  7050688    Greenville  \n4998      12000  99301-3882        SUV  6236154         Pasco  \n4999      16000  53546-9427  Passenger  7500618    Janesville  \n5000      24000  85257-3102      Sedan  7052234    Scottsdale  \n\n[4929 rows x 17 columns]",
      "text/html": "<div>\n<style scoped>\n    .dataframe tbody tr th:only-of-type {\n        vertical-align: middle;\n    }\n\n    .dataframe tbody tr th {\n        vertical-align: top;\n    }\n\n    .dataframe thead th {\n        text-align: right;\n    }\n</style>\n<table border=\"1\" class=\"dataframe\">\n  <thead>\n    <tr style=\"text-align: right;\">\n      <th></th>\n      <th>Unnamed: 0</th>\n      <th>Car_id</th>\n      <th>Date</th>\n      <th>Customer Name</th>\n      <th>Gender</th>\n      <th>Annual Income</th>\n      <th>Dealer_Name</th>\n      <th>Company</th>\n      <th>Model</th>\n      <th>Engine</th>\n      <th>Transmission</th>\n      <th>Color</th>\n      <th>Price ($)</th>\n      <th>Dealer_No</th>\n      <th>Body Style</th>\n      <th>Phone</th>\n      <th>Dealer_Region</th>\n    </tr>\n  </thead>\n  <tbody>\n    <tr>\n      <th>0</th>\n      <td>0</td>\n      <td>C_CND_000001</td>\n      <td>1/2/2022</td>\n      <td>Geraldine</td>\n      <td>Male</td>\n      <td>13500</td>\n      <td>Buddy Storbeck's Diesel Service Inc</td>\n      <td>Ford</td>\n      <td>Expedition</td>\n      <td>DoubleÂ Overhead Camshaft</td>\n      <td>Auto</td>\n      <td>Black</td>\n      <td>26000</td>\n      <td>06457-3834</td>\n      <td>SUV</td>\n      <td>8264678</td>\n      <td>Middletown</td>\n    </tr>\n    <tr>\n      <th>1</th>\n      <td>1</td>\n      <td>C_CND_000002</td>\n      <td>1/2/2022</td>\n      <td>Gia</td>\n      <td>Male</td>\n      <td>1480000</td>\n      <td>C &amp; M Motors Inc</td>\n      <td>Dodge</td>\n      <td>Durango</td>\n      <td>DoubleÂ Overhead Camshaft</td>\n      <td>Auto</td>\n      <td>Black</td>\n      <td>19000</td>\n      <td>60504-7114</td>\n      <td>SUV</td>\n      <td>6848189</td>\n      <td>Aurora</td>\n    </tr>\n    <tr>\n      <th>2</th>\n      <td>2</td>\n      <td>C_CND_000003</td>\n      <td>1/2/2022</td>\n      <td>Gianna</td>\n      <td>Male</td>\n      <td>1035000</td>\n      <td>Capitol KIA</td>\n      <td>Cadillac</td>\n      <td>Eldorado</td>\n      <td>Overhead Camshaft</td>\n      <td>Manual</td>\n      <td>Red</td>\n      <td>31500</td>\n      <td>38701-8047</td>\n      <td>Passenger</td>\n      <td>7298798</td>\n      <td>Greenville</td>\n    </tr>\n    <tr>\n      <th>3</th>\n      <td>3</td>\n      <td>C_CND_000004</td>\n      <td>1/2/2022</td>\n      <td>Giselle</td>\n      <td>Male</td>\n      <td>13500</td>\n      <td>Chrysler of Tri-Cities</td>\n      <td>Toyota</td>\n      <td>Celica</td>\n      <td>Overhead Camshaft</td>\n      <td>Manual</td>\n      <td>Pale White</td>\n      <td>14000</td>\n      <td>99301-3882</td>\n      <td>SUV</td>\n      <td>6257557</td>\n      <td>Pasco</td>\n    </tr>\n    <tr>\n      <th>4</th>\n      <td>4</td>\n      <td>C_CND_000005</td>\n      <td>1/2/2022</td>\n      <td>Grace</td>\n      <td>Male</td>\n      <td>1465000</td>\n      <td>Chrysler Plymouth</td>\n      <td>Acura</td>\n      <td>TL</td>\n      <td>DoubleÂ Overhead Camshaft</td>\n      <td>Auto</td>\n      <td>Red</td>\n      <td>24500</td>\n      <td>53546-9427</td>\n      <td>Hatchback</td>\n      <td>7081483</td>\n      <td>Janesville</td>\n    </tr>\n    <tr>\n      <th>...</th>\n      <td>...</td>\n      <td>...</td>\n      <td>...</td>\n      <td>...</td>\n      <td>...</td>\n      <td>...</td>\n      <td>...</td>\n      <td>...</td>\n      <td>...</td>\n      <td>...</td>\n      <td>...</td>\n      <td>...</td>\n      <td>...</td>\n      <td>...</td>\n      <td>...</td>\n      <td>...</td>\n      <td>...</td>\n    </tr>\n    <tr>\n      <th>4996</th>\n      <td>4996</td>\n      <td>C_CND_004997</td>\n      <td>8/28/2022</td>\n      <td>Elena</td>\n      <td>Female</td>\n      <td>3900000</td>\n      <td>Saab-Belle Dodge</td>\n      <td>Jeep</td>\n      <td>Wrangler</td>\n      <td>Overhead Camshaft</td>\n      <td>Manual</td>\n      <td>Pale White</td>\n      <td>23000</td>\n      <td>60504-7114</td>\n      <td>Hatchback</td>\n      <td>7664667</td>\n      <td>Aurora</td>\n    </tr>\n    <tr>\n      <th>4997</th>\n      <td>4997</td>\n      <td>C_CND_004998</td>\n      <td>8/28/2022</td>\n      <td>Elina</td>\n      <td>Male</td>\n      <td>1500000</td>\n      <td>Scrivener Performance Engineering</td>\n      <td>Saturn</td>\n      <td>LS</td>\n      <td>DoubleÂ Overhead Camshaft</td>\n      <td>Auto</td>\n      <td>Red</td>\n      <td>24000</td>\n      <td>38701-8047</td>\n      <td>Sedan</td>\n      <td>7050688</td>\n      <td>Greenville</td>\n    </tr>\n    <tr>\n      <th>4998</th>\n      <td>4998</td>\n      <td>C_CND_004999</td>\n      <td>8/28/2022</td>\n      <td>Elizabeth</td>\n      <td>Male</td>\n      <td>1850000</td>\n      <td>Star Enterprises Inc</td>\n      <td>Pontiac</td>\n      <td>Grand Am</td>\n      <td>DoubleÂ Overhead Camshaft</td>\n      <td>Auto</td>\n      <td>Pale White</td>\n      <td>12000</td>\n      <td>99301-3882</td>\n      <td>SUV</td>\n      <td>6236154</td>\n      <td>Pasco</td>\n    </tr>\n    <tr>\n      <th>4999</th>\n      <td>4999</td>\n      <td>C_CND_005000</td>\n      <td>8/28/2022</td>\n      <td>Ella</td>\n      <td>Male</td>\n      <td>13500</td>\n      <td>Suburban Ford</td>\n      <td>Mercury</td>\n      <td>Villager</td>\n      <td>DoubleÂ Overhead Camshaft</td>\n      <td>Auto</td>\n      <td>Black</td>\n      <td>16000</td>\n      <td>53546-9427</td>\n      <td>Passenger</td>\n      <td>7500618</td>\n      <td>Janesville</td>\n    </tr>\n    <tr>\n      <th>5000</th>\n      <td>5000</td>\n      <td>C_CND_005001</td>\n      <td>8/28/2022</td>\n      <td>Emily</td>\n      <td>Male</td>\n      <td>1700000</td>\n      <td>Tri-State Mack Inc</td>\n      <td>Mitsubishi</td>\n      <td>3000GT</td>\n      <td>Overhead Camshaft</td>\n      <td>Manual</td>\n      <td>Red</td>\n      <td>24000</td>\n      <td>85257-3102</td>\n      <td>Sedan</td>\n      <td>7052234</td>\n      <td>Scottsdale</td>\n    </tr>\n  </tbody>\n</table>\n<p>4929 rows × 17 columns</p>\n</div>"
     },
     "execution_count": 8,
     "metadata": {},
     "output_type": "execute_result"
    }
   ]
  },
  {
   "cell_type": "markdown",
   "source": [
    "3. Вычислите средний доход клиентов, купивших автомобиль марки Toyota Camry."
   ],
   "metadata": {
    "id": "TJGWwvf5N7yW",
    "pycharm": {
     "name": "#%% md\n"
    }
   }
  },
  {
   "cell_type": "code",
   "source": [
    "# Добавить свой код в ячейку\n",
    "df[(df[\"Model\"] == \"Camry\") & (df[\"Company\"] == \"Toyota\")][\"Annual Income\"].mean()"
   ],
   "metadata": {
    "id": "04XMWts3N7yX",
    "pycharm": {
     "name": "#%%\n"
    }
   },
   "execution_count": 18,
   "outputs": [
    {
     "data": {
      "text/plain": "776609.375"
     },
     "execution_count": 18,
     "metadata": {},
     "output_type": "execute_result"
    }
   ]
  },
  {
   "cell_type": "markdown",
   "source": [
    "4. Найдите топ 10 самых дорогих марок автомобилей за представленный период времени.\n"
   ],
   "metadata": {
    "id": "6hjhGKJ_N_cY",
    "pycharm": {
     "name": "#%% md\n"
    }
   }
  },
  {
   "cell_type": "code",
   "source": [
    "# Добавить свой код в ячейку\n",
    "df[\"Car\"] = df[\"Company\"] + \" \" + df[\"Model\"]\n",
    "df.sort_values(\"Price ($)\", ascending=False)[\"Car\"].unique()[:10]"
   ],
   "metadata": {
    "id": "DlSlpjn_N_cZ",
    "pycharm": {
     "name": "#%%\n"
    }
   },
   "execution_count": 41,
   "outputs": [
    {
     "name": "stderr",
     "output_type": "stream",
     "text": [
      "C:\\Users\\kam\\AppData\\Local\\Temp/ipykernel_13348/4057655449.py:2: SettingWithCopyWarning: \n",
      "A value is trying to be set on a copy of a slice from a DataFrame.\n",
      "Try using .loc[row_indexer,col_indexer] = value instead\n",
      "\n",
      "See the caveats in the documentation: https://pandas.pydata.org/pandas-docs/stable/user_guide/indexing.html#returning-a-view-versus-a-copy\n",
      "  df[\"Car\"] = df[\"Company\"] + \" \" + df[\"Model\"]\n"
     ]
    },
    {
     "data": {
      "text/plain": "array(['Toyota RAV4', 'Cadillac Eldorado', 'Mercedes-B S-Class',\n       'Audi A6', 'Volvo C70', 'Chevrolet Malibu', 'Lincoln Continental',\n       'Toyota Tacoma', 'Cadillac Catera', 'Nissan Pathfinder'],\n      dtype=object)"
     },
     "execution_count": 41,
     "metadata": {},
     "output_type": "execute_result"
    }
   ]
  },
  {
   "cell_type": "markdown",
   "source": [
    "5. Найдите среднюю стоимость автомобилей по типам кузова (Body Style), используя метод groupby."
   ],
   "metadata": {
    "id": "87KfCTHKN_5V",
    "pycharm": {
     "name": "#%% md\n"
    }
   }
  },
  {
   "cell_type": "code",
   "source": [
    "# Добавить свой код в ячейку\n",
    "df.groupby(\"Body Style\").agg(\"Price ($)\").mean()"
   ],
   "metadata": {
    "id": "i7aHYX-EN_5W",
    "pycharm": {
     "name": "#%%\n"
    }
   },
   "execution_count": 39,
   "outputs": [
    {
     "data": {
      "text/plain": "Body Style\nHardtop      29575.564677\nHatchback    27377.561126\nPassenger    29845.254130\nSUV          26729.765799\nSedan        29698.673056\nName: Price ($), dtype: float64"
     },
     "execution_count": 39,
     "metadata": {},
     "output_type": "execute_result"
    }
   ]
  },
  {
   "cell_type": "markdown",
   "source": [
    "6. Какие автомобили приобрели 10 клиентов с самым высоким доходом?"
   ],
   "metadata": {
    "id": "cqaRFHAjOAAs",
    "pycharm": {
     "name": "#%% md\n"
    }
   }
  },
  {
   "cell_type": "code",
   "source": [
    "# Добавить свой код в ячейку\n",
    "df.sort_values(\"Annual Income\", ascending=False)[\"Car\"].unique()[:10]"
   ],
   "metadata": {
    "id": "qghvRt4eOAAs",
    "pycharm": {
     "name": "#%%\n"
    }
   },
   "execution_count": 42,
   "outputs": [
    {
     "data": {
      "text/plain": "array(['Chrysler Concorde', 'Cadillac Eldorado', 'Volvo C70',\n       'Nissan Pathfinder', 'Volvo S40', 'Chevrolet Corvette',\n       'Porsche Carrera Cabrio', 'Volkswagen GTI', 'BMW 528i',\n       'Ford Ranger'], dtype=object)"
     },
     "execution_count": 42,
     "metadata": {},
     "output_type": "execute_result"
    }
   ]
  },
  {
   "cell_type": "markdown",
   "source": [
    "7. Какие автомобили приобрели 10 клиентов с самым низким доходом?\n"
   ],
   "metadata": {
    "id": "4zAQjPb0OAPM",
    "pycharm": {
     "name": "#%% md\n"
    }
   }
  },
  {
   "cell_type": "code",
   "source": [
    "# Добавить свой код в ячейку\n",
    "df.sort_values(\"Annual Income\", ascending=True)[\"Car\"].unique()[:10]"
   ],
   "metadata": {
    "id": "3hC7eRzCOAPN",
    "pycharm": {
     "name": "#%%\n"
    }
   },
   "execution_count": 43,
   "outputs": [
    {
     "data": {
      "text/plain": "array(['Ford Expedition', 'BMW 323i', 'BMW 528i', 'Dodge Stratus',\n       'Volkswagen GTI', 'Volvo S80', 'Lexus LS400', 'Volkswagen Cabrio',\n       'Ford Explorer', 'Hyundai Accent'], dtype=object)"
     },
     "execution_count": 43,
     "metadata": {},
     "output_type": "execute_result"
    }
   ]
  },
  {
   "cell_type": "markdown",
   "source": [
    "8. Создайте новый столбец, значения которого равны логарифму от величины дохода клиентов.\n"
   ],
   "metadata": {
    "id": "JhhWfqdNOOd-",
    "pycharm": {
     "name": "#%% md\n"
    }
   }
  },
  {
   "cell_type": "code",
   "execution_count": 45,
   "outputs": [
    {
     "name": "stderr",
     "output_type": "stream",
     "text": [
      "C:\\Users\\kam\\AppData\\Local\\Temp/ipykernel_13348/3933566145.py:3: SettingWithCopyWarning: \n",
      "A value is trying to be set on a copy of a slice from a DataFrame.\n",
      "Try using .loc[row_indexer,col_indexer] = value instead\n",
      "\n",
      "See the caveats in the documentation: https://pandas.pydata.org/pandas-docs/stable/user_guide/indexing.html#returning-a-view-versus-a-copy\n",
      "  df[\"Log\"] = df[\"Annual Income\"].apply(math.log)\n"
     ]
    },
    {
     "data": {
      "text/plain": "      Unnamed: 0        Car_id       Date Customer Name  Gender  \\\n0              0  C_CND_000001   1/2/2022     Geraldine    Male   \n1              1  C_CND_000002   1/2/2022           Gia    Male   \n2              2  C_CND_000003   1/2/2022        Gianna    Male   \n3              3  C_CND_000004   1/2/2022       Giselle    Male   \n4              4  C_CND_000005   1/2/2022         Grace    Male   \n...          ...           ...        ...           ...     ...   \n4996        4996  C_CND_004997  8/28/2022         Elena  Female   \n4997        4997  C_CND_004998  8/28/2022         Elina    Male   \n4998        4998  C_CND_004999  8/28/2022     Elizabeth    Male   \n4999        4999  C_CND_005000  8/28/2022          Ella    Male   \n5000        5000  C_CND_005001  8/28/2022         Emily    Male   \n\n      Annual Income                          Dealer_Name     Company  \\\n0             13500  Buddy Storbeck's Diesel Service Inc        Ford   \n1           1480000                     C & M Motors Inc       Dodge   \n2           1035000                          Capitol KIA    Cadillac   \n3             13500               Chrysler of Tri-Cities      Toyota   \n4           1465000                    Chrysler Plymouth       Acura   \n...             ...                                  ...         ...   \n4996        3900000                     Saab-Belle Dodge        Jeep   \n4997        1500000    Scrivener Performance Engineering      Saturn   \n4998        1850000                 Star Enterprises Inc     Pontiac   \n4999          13500                        Suburban Ford     Mercury   \n5000        1700000                   Tri-State Mack Inc  Mitsubishi   \n\n           Model                     Engine Transmission       Color  \\\n0     Expedition  DoubleÂ Overhead Camshaft         Auto       Black   \n1        Durango  DoubleÂ Overhead Camshaft         Auto       Black   \n2       Eldorado          Overhead Camshaft       Manual         Red   \n3         Celica          Overhead Camshaft       Manual  Pale White   \n4             TL  DoubleÂ Overhead Camshaft         Auto         Red   \n...          ...                        ...          ...         ...   \n4996    Wrangler          Overhead Camshaft       Manual  Pale White   \n4997          LS  DoubleÂ Overhead Camshaft         Auto         Red   \n4998    Grand Am  DoubleÂ Overhead Camshaft         Auto  Pale White   \n4999    Villager  DoubleÂ Overhead Camshaft         Auto       Black   \n5000      3000GT          Overhead Camshaft       Manual         Red   \n\n      Price ($)  Dealer_No  Body Style    Phone Dealer_Region  \\\n0         26000  06457-3834        SUV  8264678    Middletown   \n1         19000  60504-7114        SUV  6848189        Aurora   \n2         31500  38701-8047  Passenger  7298798    Greenville   \n3         14000  99301-3882        SUV  6257557         Pasco   \n4         24500  53546-9427  Hatchback  7081483    Janesville   \n...         ...         ...        ...      ...           ...   \n4996      23000  60504-7114  Hatchback  7664667        Aurora   \n4997      24000  38701-8047      Sedan  7050688    Greenville   \n4998      12000  99301-3882        SUV  6236154         Pasco   \n4999      16000  53546-9427  Passenger  7500618    Janesville   \n5000      24000  85257-3102      Sedan  7052234    Scottsdale   \n\n                    Car        Log  \n0       Ford Expedition   9.510445  \n1         Dodge Durango  14.207553  \n2     Cadillac Eldorado  13.849912  \n3         Toyota Celica   9.510445  \n4              Acura TL  14.197366  \n...                 ...        ...  \n4996      Jeep Wrangler  15.176487  \n4997          Saturn LS  14.220976  \n4998   Pontiac Grand Am  14.430696  \n4999   Mercury Villager   9.510445  \n5000  Mitsubishi 3000GT  14.346139  \n\n[4929 rows x 19 columns]",
      "text/html": "<div>\n<style scoped>\n    .dataframe tbody tr th:only-of-type {\n        vertical-align: middle;\n    }\n\n    .dataframe tbody tr th {\n        vertical-align: top;\n    }\n\n    .dataframe thead th {\n        text-align: right;\n    }\n</style>\n<table border=\"1\" class=\"dataframe\">\n  <thead>\n    <tr style=\"text-align: right;\">\n      <th></th>\n      <th>Unnamed: 0</th>\n      <th>Car_id</th>\n      <th>Date</th>\n      <th>Customer Name</th>\n      <th>Gender</th>\n      <th>Annual Income</th>\n      <th>Dealer_Name</th>\n      <th>Company</th>\n      <th>Model</th>\n      <th>Engine</th>\n      <th>Transmission</th>\n      <th>Color</th>\n      <th>Price ($)</th>\n      <th>Dealer_No</th>\n      <th>Body Style</th>\n      <th>Phone</th>\n      <th>Dealer_Region</th>\n      <th>Car</th>\n      <th>Log</th>\n    </tr>\n  </thead>\n  <tbody>\n    <tr>\n      <th>0</th>\n      <td>0</td>\n      <td>C_CND_000001</td>\n      <td>1/2/2022</td>\n      <td>Geraldine</td>\n      <td>Male</td>\n      <td>13500</td>\n      <td>Buddy Storbeck's Diesel Service Inc</td>\n      <td>Ford</td>\n      <td>Expedition</td>\n      <td>DoubleÂ Overhead Camshaft</td>\n      <td>Auto</td>\n      <td>Black</td>\n      <td>26000</td>\n      <td>06457-3834</td>\n      <td>SUV</td>\n      <td>8264678</td>\n      <td>Middletown</td>\n      <td>Ford Expedition</td>\n      <td>9.510445</td>\n    </tr>\n    <tr>\n      <th>1</th>\n      <td>1</td>\n      <td>C_CND_000002</td>\n      <td>1/2/2022</td>\n      <td>Gia</td>\n      <td>Male</td>\n      <td>1480000</td>\n      <td>C &amp; M Motors Inc</td>\n      <td>Dodge</td>\n      <td>Durango</td>\n      <td>DoubleÂ Overhead Camshaft</td>\n      <td>Auto</td>\n      <td>Black</td>\n      <td>19000</td>\n      <td>60504-7114</td>\n      <td>SUV</td>\n      <td>6848189</td>\n      <td>Aurora</td>\n      <td>Dodge Durango</td>\n      <td>14.207553</td>\n    </tr>\n    <tr>\n      <th>2</th>\n      <td>2</td>\n      <td>C_CND_000003</td>\n      <td>1/2/2022</td>\n      <td>Gianna</td>\n      <td>Male</td>\n      <td>1035000</td>\n      <td>Capitol KIA</td>\n      <td>Cadillac</td>\n      <td>Eldorado</td>\n      <td>Overhead Camshaft</td>\n      <td>Manual</td>\n      <td>Red</td>\n      <td>31500</td>\n      <td>38701-8047</td>\n      <td>Passenger</td>\n      <td>7298798</td>\n      <td>Greenville</td>\n      <td>Cadillac Eldorado</td>\n      <td>13.849912</td>\n    </tr>\n    <tr>\n      <th>3</th>\n      <td>3</td>\n      <td>C_CND_000004</td>\n      <td>1/2/2022</td>\n      <td>Giselle</td>\n      <td>Male</td>\n      <td>13500</td>\n      <td>Chrysler of Tri-Cities</td>\n      <td>Toyota</td>\n      <td>Celica</td>\n      <td>Overhead Camshaft</td>\n      <td>Manual</td>\n      <td>Pale White</td>\n      <td>14000</td>\n      <td>99301-3882</td>\n      <td>SUV</td>\n      <td>6257557</td>\n      <td>Pasco</td>\n      <td>Toyota Celica</td>\n      <td>9.510445</td>\n    </tr>\n    <tr>\n      <th>4</th>\n      <td>4</td>\n      <td>C_CND_000005</td>\n      <td>1/2/2022</td>\n      <td>Grace</td>\n      <td>Male</td>\n      <td>1465000</td>\n      <td>Chrysler Plymouth</td>\n      <td>Acura</td>\n      <td>TL</td>\n      <td>DoubleÂ Overhead Camshaft</td>\n      <td>Auto</td>\n      <td>Red</td>\n      <td>24500</td>\n      <td>53546-9427</td>\n      <td>Hatchback</td>\n      <td>7081483</td>\n      <td>Janesville</td>\n      <td>Acura TL</td>\n      <td>14.197366</td>\n    </tr>\n    <tr>\n      <th>...</th>\n      <td>...</td>\n      <td>...</td>\n      <td>...</td>\n      <td>...</td>\n      <td>...</td>\n      <td>...</td>\n      <td>...</td>\n      <td>...</td>\n      <td>...</td>\n      <td>...</td>\n      <td>...</td>\n      <td>...</td>\n      <td>...</td>\n      <td>...</td>\n      <td>...</td>\n      <td>...</td>\n      <td>...</td>\n      <td>...</td>\n      <td>...</td>\n    </tr>\n    <tr>\n      <th>4996</th>\n      <td>4996</td>\n      <td>C_CND_004997</td>\n      <td>8/28/2022</td>\n      <td>Elena</td>\n      <td>Female</td>\n      <td>3900000</td>\n      <td>Saab-Belle Dodge</td>\n      <td>Jeep</td>\n      <td>Wrangler</td>\n      <td>Overhead Camshaft</td>\n      <td>Manual</td>\n      <td>Pale White</td>\n      <td>23000</td>\n      <td>60504-7114</td>\n      <td>Hatchback</td>\n      <td>7664667</td>\n      <td>Aurora</td>\n      <td>Jeep Wrangler</td>\n      <td>15.176487</td>\n    </tr>\n    <tr>\n      <th>4997</th>\n      <td>4997</td>\n      <td>C_CND_004998</td>\n      <td>8/28/2022</td>\n      <td>Elina</td>\n      <td>Male</td>\n      <td>1500000</td>\n      <td>Scrivener Performance Engineering</td>\n      <td>Saturn</td>\n      <td>LS</td>\n      <td>DoubleÂ Overhead Camshaft</td>\n      <td>Auto</td>\n      <td>Red</td>\n      <td>24000</td>\n      <td>38701-8047</td>\n      <td>Sedan</td>\n      <td>7050688</td>\n      <td>Greenville</td>\n      <td>Saturn LS</td>\n      <td>14.220976</td>\n    </tr>\n    <tr>\n      <th>4998</th>\n      <td>4998</td>\n      <td>C_CND_004999</td>\n      <td>8/28/2022</td>\n      <td>Elizabeth</td>\n      <td>Male</td>\n      <td>1850000</td>\n      <td>Star Enterprises Inc</td>\n      <td>Pontiac</td>\n      <td>Grand Am</td>\n      <td>DoubleÂ Overhead Camshaft</td>\n      <td>Auto</td>\n      <td>Pale White</td>\n      <td>12000</td>\n      <td>99301-3882</td>\n      <td>SUV</td>\n      <td>6236154</td>\n      <td>Pasco</td>\n      <td>Pontiac Grand Am</td>\n      <td>14.430696</td>\n    </tr>\n    <tr>\n      <th>4999</th>\n      <td>4999</td>\n      <td>C_CND_005000</td>\n      <td>8/28/2022</td>\n      <td>Ella</td>\n      <td>Male</td>\n      <td>13500</td>\n      <td>Suburban Ford</td>\n      <td>Mercury</td>\n      <td>Villager</td>\n      <td>DoubleÂ Overhead Camshaft</td>\n      <td>Auto</td>\n      <td>Black</td>\n      <td>16000</td>\n      <td>53546-9427</td>\n      <td>Passenger</td>\n      <td>7500618</td>\n      <td>Janesville</td>\n      <td>Mercury Villager</td>\n      <td>9.510445</td>\n    </tr>\n    <tr>\n      <th>5000</th>\n      <td>5000</td>\n      <td>C_CND_005001</td>\n      <td>8/28/2022</td>\n      <td>Emily</td>\n      <td>Male</td>\n      <td>1700000</td>\n      <td>Tri-State Mack Inc</td>\n      <td>Mitsubishi</td>\n      <td>3000GT</td>\n      <td>Overhead Camshaft</td>\n      <td>Manual</td>\n      <td>Red</td>\n      <td>24000</td>\n      <td>85257-3102</td>\n      <td>Sedan</td>\n      <td>7052234</td>\n      <td>Scottsdale</td>\n      <td>Mitsubishi 3000GT</td>\n      <td>14.346139</td>\n    </tr>\n  </tbody>\n</table>\n<p>4929 rows × 19 columns</p>\n</div>"
     },
     "execution_count": 45,
     "metadata": {},
     "output_type": "execute_result"
    }
   ],
   "source": [
    "# Добавить свой код в ячейку\n",
    "import math\n",
    "df[\"Log\"] = df[\"Annual Income\"].apply(math.log)\n",
    "df"
   ],
   "metadata": {
    "collapsed": false,
    "pycharm": {
     "name": "#%%\n"
    }
   }
  },
  {
   "cell_type": "code",
   "execution_count": null,
   "outputs": [],
   "source": [],
   "metadata": {
    "collapsed": false,
    "pycharm": {
     "name": "#%%\n"
    }
   }
  }
 ]
}